{
  "metadata": {
    "kernelspec": {
      "language": "python",
      "display_name": "Python 3",
      "name": "python3"
    },
    "language_info": {
      "name": "python",
      "version": "3.10.12",
      "mimetype": "text/x-python",
      "codemirror_mode": {
        "name": "ipython",
        "version": 3
      },
      "pygments_lexer": "ipython3",
      "nbconvert_exporter": "python",
      "file_extension": ".py"
    },
    "kaggle": {
      "accelerator": "none",
      "dataSources": [],
      "dockerImageVersionId": 30839,
      "isInternetEnabled": true,
      "language": "python",
      "sourceType": "notebook",
      "isGpuEnabled": false
    },
    "colab": {
      "provenance": []
    }
  },
  "nbformat_minor": 0,
  "nbformat": 4,
  "cells": [
    {
      "cell_type": "code",
      "source": [
        "!pip install nltk\n",
        "!pip install spacy\n",
        "!python -m spacy download fr_dep_news_trf\n",
        "!python -m spacy download en_core_web_trf"
      ],
      "metadata": {
        "trusted": true,
        "id": "csoUzb4wWoMb"
      },
      "outputs": [],
      "execution_count": null
    },
    {
      "cell_type": "code",
      "source": [
        "import numpy as np\n",
        "import pandas as pd\n",
        "\n",
        "import os\n",
        "for dirname, _, filenames in os.walk('/kaggle/input'):\n",
        "    for filename in filenames:\n",
        "        print(os.path.join(dirname, filename))"
      ],
      "metadata": {
        "_uuid": "c7532a27-bd89-425e-8a6f-3bc150f441e5",
        "_cell_guid": "b59ba445-d931-4e49-ab68-1aa04ac1fbf1",
        "trusted": true,
        "execution": {
          "iopub.status.busy": "2025-01-30T14:02:06.875832Z",
          "iopub.execute_input": "2025-01-30T14:02:06.876242Z",
          "iopub.status.idle": "2025-01-30T14:02:07.339567Z",
          "shell.execute_reply.started": "2025-01-30T14:02:06.876193Z",
          "shell.execute_reply": "2025-01-30T14:02:07.338459Z"
        },
        "jupyter": {
          "outputs_hidden": false
        },
        "id": "ZwsyiMMnWoMj"
      },
      "outputs": [],
      "execution_count": null
    },
    {
      "cell_type": "markdown",
      "source": [
        "## Load dataset"
      ],
      "metadata": {
        "_uuid": "60d4c0ac-fcdc-4610-9317-107f17c807a4",
        "_cell_guid": "09f92aa0-e922-4258-9fba-ef46a84b0a64",
        "trusted": true,
        "collapsed": false,
        "jupyter": {
          "outputs_hidden": false
        },
        "id": "Nzus8CIKWoMk"
      }
    },
    {
      "cell_type": "code",
      "source": [
        "from datasets import load_dataset\n",
        "\n",
        "train_data_files = {'train': 'fr-en/train-00017-of-00030.parquet'}\n",
        "dataset_train = load_dataset(path='wmt/wmt14', trust_remote_code=True, data_files=train_data_files)\n",
        "\n",
        "test_data_files = {'test': 'fr-en/test-00000-of-00001.parquet'}\n",
        "dataset_test = load_dataset('wmt/wmt14', trust_remote_code=True, data_files=test_data_files)\n",
        "\n",
        "validation_data_files = {'validation': 'fr-en/validation-00000-of-00001.parquet'}\n",
        "dataset_validation = load_dataset('wmt/wmt14', trust_remote_code=True, data_files=validation_data_files)"
      ],
      "metadata": {
        "_uuid": "fed30173-4f58-45c1-b65e-86666d091c7f",
        "_cell_guid": "e595c134-0a12-4f90-af16-8bc7c0a9fef6",
        "trusted": true,
        "execution": {
          "iopub.status.busy": "2025-01-30T14:05:57.325141Z",
          "iopub.execute_input": "2025-01-30T14:05:57.325595Z",
          "iopub.status.idle": "2025-01-30T14:06:08.423331Z",
          "shell.execute_reply.started": "2025-01-30T14:05:57.325562Z",
          "shell.execute_reply": "2025-01-30T14:06:08.422203Z"
        },
        "jupyter": {
          "outputs_hidden": false
        },
        "id": "hu0ScPlYWoMn"
      },
      "outputs": [],
      "execution_count": null
    },
    {
      "cell_type": "code",
      "source": [
        "# from datasets import load_dataset, load_from_disk\n",
        "\n",
        "# dataset_train = load_from_disk('/kaggle/working/train_data')\n",
        "# dataset_test = load_from_disk('/kaggle/working/test_data')\n",
        "# dataset_validation = load_from_disk('/kaggle/working/validation_data')"
      ],
      "metadata": {
        "trusted": true,
        "id": "3bFhi-ctWoMp"
      },
      "outputs": [],
      "execution_count": null
    },
    {
      "cell_type": "markdown",
      "source": [
        "## Sort sentence length"
      ],
      "metadata": {
        "_uuid": "10f09b0a-e559-450c-897b-089e9168ab9b",
        "_cell_guid": "203bd9ac-1f29-4afa-8d29-51a50b4a552c",
        "trusted": true,
        "collapsed": false,
        "jupyter": {
          "outputs_hidden": false
        },
        "id": "rJUnRle4WoMq"
      }
    },
    {
      "cell_type": "code",
      "source": [
        "def get_sentence_length(example):\n",
        "    # Gets first language text (source text)\n",
        "    source_text = list(example['translation'].values())[0]\n",
        "    example['length'] = len(source_text.split())\n",
        "    return example\n",
        "\n",
        "def sort_sentence_length(dataset):\n",
        "    dataset_with_lengths = dataset.map(get_sentence_length)\n",
        "    sorted_dataset = dataset_with_lengths.sort('length')\n",
        "    return sorted_dataset.remove_columns('length')\n",
        "\n",
        "dataset_train = sort_sentence_length(dataset_train)\n",
        "dataset_test = sort_sentence_length(dataset_test)\n",
        "dataset_validation = sort_sentence_length(dataset_validation)"
      ],
      "metadata": {
        "_uuid": "471fbdcc-d885-44df-a1a8-66834d051946",
        "_cell_guid": "352d3aa6-85c6-4c87-a516-b091e463267d",
        "trusted": true,
        "execution": {
          "iopub.status.busy": "2025-01-30T14:06:32.147873Z",
          "iopub.execute_input": "2025-01-30T14:06:32.148394Z",
          "iopub.status.idle": "2025-01-30T14:06:32.586941Z",
          "shell.execute_reply.started": "2025-01-30T14:06:32.148359Z",
          "shell.execute_reply": "2025-01-30T14:06:32.585733Z"
        },
        "jupyter": {
          "outputs_hidden": false
        },
        "id": "BODztdWjWoMr"
      },
      "outputs": [],
      "execution_count": null
    },
    {
      "cell_type": "markdown",
      "source": [
        "## Tokenization"
      ],
      "metadata": {
        "_uuid": "620fa1ff-892d-4ff4-b28e-9e8f3d68fed1",
        "_cell_guid": "6cfe6d3f-c1e1-4b3c-b405-7c0becf97876",
        "trusted": true,
        "collapsed": false,
        "jupyter": {
          "outputs_hidden": false
        },
        "id": "XEbT9qp0WoMs"
      }
    },
    {
      "cell_type": "code",
      "source": [
        "import spacy\n",
        "en_nlp = spacy.load('en_core_web_trf')\n",
        "fr_nlp = spacy.load('fr_dep_news_trf')"
      ],
      "metadata": {
        "_uuid": "33c780ee-59b9-4df3-9b8e-ce0b7cd0e0c4",
        "_cell_guid": "53e464dc-013d-4882-8d3e-ce39e6e52847",
        "trusted": true,
        "execution": {
          "iopub.status.busy": "2025-01-30T14:06:34.155405Z",
          "iopub.execute_input": "2025-01-30T14:06:34.155782Z",
          "iopub.status.idle": "2025-01-30T14:06:52.820330Z",
          "shell.execute_reply.started": "2025-01-30T14:06:34.155752Z",
          "shell.execute_reply": "2025-01-30T14:06:52.819246Z"
        },
        "jupyter": {
          "outputs_hidden": false
        },
        "id": "dymNi5WPWoMt",
        "outputId": "8b381906-61c0-45bb-c83c-1aa691741e38"
      },
      "outputs": [
        {
          "name": "stderr",
          "text": "/usr/local/lib/python3.10/dist-packages/thinc/shims/pytorch.py:253: FutureWarning: You are using `torch.load` with `weights_only=False` (the current default value), which uses the default pickle module implicitly. It is possible to construct malicious pickle data which will execute arbitrary code during unpickling (See https://github.com/pytorch/pytorch/blob/main/SECURITY.md#untrusted-models for more details). In a future release, the default value for `weights_only` will be flipped to `True`. This limits the functions that could be executed during unpickling. Arbitrary objects will no longer be allowed to be loaded via this mode unless they are explicitly allowlisted by the user via `torch.serialization.add_safe_globals`. We recommend you start setting `weights_only=True` for any use case where you don't have full control of the loaded file. Please open an issue on GitHub for any issues related to this experimental feature.\n  model.load_state_dict(torch.load(filelike, map_location=device))\n",
          "output_type": "stream"
        }
      ],
      "execution_count": null
    },
    {
      "cell_type": "code",
      "source": [
        "def batch_tokenize(example, en_nlp, fr_nlp, max_length, sos_token, eos_token):\n",
        "    en_tokens = [token.text.lower() for token in en_nlp.tokenizer(example['translation']['en'])]\n",
        "    fr_tokens = [token.text.lower() for token in fr_nlp.tokenizer(example['translation']['fr'])]\n",
        "\n",
        "    en_tokens = [sos_token] + en_tokens + [eos_token]\n",
        "    fr_tokens = [sos_token] + fr_tokens + [eos_token]\n",
        "\n",
        "    return {'en_tokens': en_tokens, 'fr_tokens': fr_tokens}\n",
        "\n",
        "\n",
        "max_length = 1000\n",
        "sos_token = '<sos>'\n",
        "eos_token = '<eos>'\n",
        "pad_token = '<pad>'\n",
        "\n",
        "fn_kwargs = {\n",
        "    'en_nlp': en_nlp,\n",
        "    'fr_nlp': fr_nlp,\n",
        "    'max_length': max_length,\n",
        "    'sos_token': sos_token,\n",
        "    'eos_token': eos_token,\n",
        "}\n",
        "\n",
        "dataset_train = dataset_train['train'].map(batch_tokenize, fn_kwargs=fn_kwargs)\n",
        "dataset_test = dataset_test['test'].map(batch_tokenize, fn_kwargs=fn_kwargs)\n",
        "dataset_validation = dataset_validation['validation'].map(batch_tokenize, fn_kwargs=fn_kwargs)"
      ],
      "metadata": {
        "_uuid": "326855c0-1423-4016-b784-c74b39e329b3",
        "_cell_guid": "cf0c2cea-e209-40a0-804d-b4a78b4378d4",
        "trusted": true,
        "execution": {
          "iopub.status.busy": "2025-01-30T14:06:56.581386Z",
          "iopub.execute_input": "2025-01-30T14:06:56.582003Z",
          "iopub.status.idle": "2025-01-30T14:18:16.061813Z",
          "shell.execute_reply.started": "2025-01-30T14:06:56.581969Z",
          "shell.execute_reply": "2025-01-30T14:18:16.060561Z"
        },
        "jupyter": {
          "outputs_hidden": false
        },
        "colab": {
          "referenced_widgets": [
            "1deb3502564f42599fb7206b925c5c05",
            "8b291319283747119ef06a90a9c34605",
            "4953ea741b8948a3a023bd45a4ecb1eb"
          ]
        },
        "id": "qTfQtrQtWoMv",
        "outputId": "c5ed264b-d8e9-42ef-9351-ab5fc9448d02"
      },
      "outputs": [
        {
          "output_type": "display_data",
          "data": {
            "text/plain": "Map:   0%|          | 0/1361224 [00:00<?, ? examples/s]",
            "application/vnd.jupyter.widget-view+json": {
              "version_major": 2,
              "version_minor": 0,
              "model_id": "1deb3502564f42599fb7206b925c5c05"
            }
          },
          "metadata": {}
        },
        {
          "output_type": "display_data",
          "data": {
            "text/plain": "Map:   0%|          | 0/3003 [00:00<?, ? examples/s]",
            "application/vnd.jupyter.widget-view+json": {
              "version_major": 2,
              "version_minor": 0,
              "model_id": "8b291319283747119ef06a90a9c34605"
            }
          },
          "metadata": {}
        },
        {
          "output_type": "display_data",
          "data": {
            "text/plain": "Map:   0%|          | 0/3000 [00:00<?, ? examples/s]",
            "application/vnd.jupyter.widget-view+json": {
              "version_major": 2,
              "version_minor": 0,
              "model_id": "4953ea741b8948a3a023bd45a4ecb1eb"
            }
          },
          "metadata": {}
        }
      ],
      "execution_count": null
    },
    {
      "cell_type": "code",
      "source": [
        "# from itertools import chain\n",
        "# en_unique_words = set(chain(*dataset_train['en_tokens']))\n",
        "# fr_unique_words = set(chain(*dataset_train['fr_tokens']))"
      ],
      "metadata": {
        "_uuid": "3df34920-98c1-4612-a58f-1088e8e4725b",
        "_cell_guid": "70c631a3-6aa9-47ff-b7d7-7d5c9e81fa7c",
        "trusted": true,
        "execution": {
          "iopub.status.busy": "2025-01-30T14:18:16.063492Z",
          "iopub.execute_input": "2025-01-30T14:18:16.063950Z",
          "iopub.status.idle": "2025-01-30T14:18:16.068493Z",
          "shell.execute_reply.started": "2025-01-30T14:18:16.063901Z",
          "shell.execute_reply": "2025-01-30T14:18:16.067312Z"
        },
        "jupyter": {
          "outputs_hidden": false
        },
        "id": "T9gNEnwGWoMw"
      },
      "outputs": [],
      "execution_count": null
    },
    {
      "cell_type": "code",
      "source": [
        "from collections import Counter\n",
        "\n",
        "def process_translations(df):\n",
        "    en_texts = [item['en'] for item in df['translation']]\n",
        "    fr_texts = [item['fr'] for item in df['translation']]\n",
        "\n",
        "    return pd.DataFrame({\n",
        "        'en': en_texts,\n",
        "        'fr': fr_texts\n",
        "    })\n",
        "\n",
        "df_words = process_translations(dataset_train)\n",
        "en = df_words['en'].tolist()\n",
        "fr = df_words['fr'].tolist()\n",
        "\n",
        "\n",
        "def lang_str_int(lang, nlp):\n",
        "    special_vocab = ['<unk>', '<pad>', '<sos>', '<eos>']\n",
        "    tokens = [token.text.lower() for sentence in lang for token in nlp.tokenizer(sentence)]\n",
        "    vocab_counter = Counter(tokens)\n",
        "    lang_vocab = special_vocab + [word for word, freq in vocab_counter.items() if freq >= 2]\n",
        "    str2int = {ch: i for i, ch in enumerate(lang_vocab)}\n",
        "    int2str = {i: ch for i, ch in enumerate(lang_vocab)}\n",
        "    return str2int, int2str\n",
        "\n",
        "\n",
        "fr_str2int, fr_int2str = lang_str_int(fr, fr_nlp)\n",
        "en_str2int, en_int2str = lang_str_int(en, en_nlp)\n",
        "len(fr_str2int), len(en_str2int)"
      ],
      "metadata": {
        "_uuid": "1a4529ee-7988-40b4-8930-f1cf7c28ef8b",
        "_cell_guid": "57fe283c-e139-4e81-8230-7377573e00b5",
        "trusted": true,
        "execution": {
          "iopub.status.busy": "2025-01-30T14:18:16.070201Z",
          "iopub.execute_input": "2025-01-30T14:18:16.070555Z",
          "iopub.status.idle": "2025-01-30T14:21:43.401765Z",
          "shell.execute_reply.started": "2025-01-30T14:18:16.070524Z",
          "shell.execute_reply": "2025-01-30T14:21:43.400554Z"
        },
        "jupyter": {
          "outputs_hidden": false
        },
        "id": "DV9bmwCXWoMx",
        "outputId": "1233ea76-6b1b-4422-e68c-52eb7f1e066c"
      },
      "outputs": [
        {
          "execution_count": 10,
          "output_type": "execute_result",
          "data": {
            "text/plain": "(150345, 126272)"
          },
          "metadata": {}
        }
      ],
      "execution_count": null
    },
    {
      "cell_type": "markdown",
      "source": [
        "## tokens to ids"
      ],
      "metadata": {
        "id": "vtDHs2k1WoMy"
      }
    },
    {
      "cell_type": "code",
      "source": [
        "import torch\n",
        "import numpy as np\n",
        "import torch.nn as nn\n",
        "\n",
        "def token_to_int(example, str2int):\n",
        "    return [str2int.get(token, str2int['<unk>']) for token in example]\n",
        "\n",
        "def tokens_to_ids(example):\n",
        "    example['en_ids'] = token_to_int(example['en_tokens'], en_str2int)\n",
        "    example['fr_ids'] = token_to_int(example['fr_tokens'], fr_str2int)\n",
        "    return example\n",
        "\n",
        "dataset_train = dataset_train.map(tokens_to_ids)\n",
        "dataset_test = dataset_test.map(tokens_to_ids)\n",
        "dataset_validation = dataset_validation.map(tokens_to_ids)"
      ],
      "metadata": {
        "_uuid": "bcd1d0d0-35ca-4ab1-b03d-9098930b459b",
        "_cell_guid": "9e2e0e30-b038-47d7-b72c-ba2d24495362",
        "trusted": true,
        "execution": {
          "iopub.status.busy": "2025-01-30T14:21:43.403587Z",
          "iopub.execute_input": "2025-01-30T14:21:43.403900Z",
          "iopub.status.idle": "2025-01-30T14:27:45.536262Z",
          "shell.execute_reply.started": "2025-01-30T14:21:43.403861Z",
          "shell.execute_reply": "2025-01-30T14:27:45.534859Z"
        },
        "jupyter": {
          "outputs_hidden": false
        },
        "colab": {
          "referenced_widgets": [
            "4e387e7f8d1342ec86f1254bf4e418a0",
            "14a7fc0bef6d48e9ad6403fc1ee09310",
            "fef52bc42ae244be8002a6cee52d21dd"
          ]
        },
        "id": "RGyRuOMWWoMz",
        "outputId": "85ffde9c-7a49-4c9b-a629-eaf7e3f4af54"
      },
      "outputs": [
        {
          "output_type": "display_data",
          "data": {
            "text/plain": "Map:   0%|          | 0/1361224 [00:00<?, ? examples/s]",
            "application/vnd.jupyter.widget-view+json": {
              "version_major": 2,
              "version_minor": 0,
              "model_id": "4e387e7f8d1342ec86f1254bf4e418a0"
            }
          },
          "metadata": {}
        },
        {
          "output_type": "display_data",
          "data": {
            "text/plain": "Map:   0%|          | 0/3003 [00:00<?, ? examples/s]",
            "application/vnd.jupyter.widget-view+json": {
              "version_major": 2,
              "version_minor": 0,
              "model_id": "14a7fc0bef6d48e9ad6403fc1ee09310"
            }
          },
          "metadata": {}
        },
        {
          "output_type": "display_data",
          "data": {
            "text/plain": "Map:   0%|          | 0/3000 [00:00<?, ? examples/s]",
            "application/vnd.jupyter.widget-view+json": {
              "version_major": 2,
              "version_minor": 0,
              "model_id": "fef52bc42ae244be8002a6cee52d21dd"
            }
          },
          "metadata": {}
        }
      ],
      "execution_count": null
    },
    {
      "cell_type": "code",
      "source": [
        "'''\n",
        "Reverse the source language, eg source_lang: 'hello' -> 'olleh'\n",
        "This is said to give a significant boost in the model accuracy.\n",
        "example:\n",
        "    source_lang: a, b, c\n",
        "    target_lang: α, β, γ\n",
        "\n",
        "    reversing: c, b, a -> α, β, γ\n",
        "    Why? because it makes it faster to establish a communication.\n",
        "'''\n",
        "\n",
        "def reverse_source_lang(example):\n",
        "    '''reverse list'''\n",
        "    example['en_ids'] = list(reversed(example['en_ids']))\n",
        "    return example\n",
        "\n",
        "dataset_train = dataset_train.map(reverse_source_lang)\n",
        "dataset_test = dataset_test.map(reverse_source_lang)\n",
        "dataset_validation = dataset_validation.map(reverse_source_lang)\n",
        "\n",
        "dataset_train.set_format(\n",
        "    type='torch',\n",
        "    columns=['en_ids', 'fr_ids'],\n",
        "    output_all_columns=False\n",
        ")\n",
        "dataset_test.set_format(\n",
        "    type='torch',\n",
        "    columns=['en_ids', 'fr_ids'],\n",
        "    output_all_columns=False\n",
        ")\n",
        "dataset_validation.set_format(\n",
        "    type='torch',\n",
        "    columns=['en_ids', 'fr_ids'],\n",
        "    output_all_columns=False\n",
        ")"
      ],
      "metadata": {
        "_uuid": "57452ab3-92d5-4e7c-8527-dac391a8efb3",
        "_cell_guid": "4c86df88-6c58-4a15-af95-16ebaea634ee",
        "trusted": true,
        "execution": {
          "iopub.status.busy": "2025-01-30T14:27:45.537784Z",
          "iopub.execute_input": "2025-01-30T14:27:45.538218Z",
          "iopub.status.idle": "2025-01-30T14:31:35.433591Z",
          "shell.execute_reply.started": "2025-01-30T14:27:45.538184Z",
          "shell.execute_reply": "2025-01-30T14:31:35.432263Z"
        },
        "jupyter": {
          "outputs_hidden": false
        },
        "colab": {
          "referenced_widgets": [
            "e7e24038429e409a8063b30ff88d6f68",
            "86ba06a64bdf43688e629f7dd67ed7d1",
            "f6d42e0719e941398b10362aad97b715"
          ]
        },
        "id": "xh0368UYWoMz",
        "outputId": "b44145bf-d60b-4228-ef87-b2eee2989039"
      },
      "outputs": [
        {
          "output_type": "display_data",
          "data": {
            "text/plain": "Map:   0%|          | 0/1361224 [00:00<?, ? examples/s]",
            "application/vnd.jupyter.widget-view+json": {
              "version_major": 2,
              "version_minor": 0,
              "model_id": "e7e24038429e409a8063b30ff88d6f68"
            }
          },
          "metadata": {}
        },
        {
          "output_type": "display_data",
          "data": {
            "text/plain": "Map:   0%|          | 0/3003 [00:00<?, ? examples/s]",
            "application/vnd.jupyter.widget-view+json": {
              "version_major": 2,
              "version_minor": 0,
              "model_id": "86ba06a64bdf43688e629f7dd67ed7d1"
            }
          },
          "metadata": {}
        },
        {
          "output_type": "display_data",
          "data": {
            "text/plain": "Map:   0%|          | 0/3000 [00:00<?, ? examples/s]",
            "application/vnd.jupyter.widget-view+json": {
              "version_major": 2,
              "version_minor": 0,
              "model_id": "f6d42e0719e941398b10362aad97b715"
            }
          },
          "metadata": {}
        }
      ],
      "execution_count": null
    },
    {
      "cell_type": "markdown",
      "source": [
        "### Saving data"
      ],
      "metadata": {
        "id": "P9wIw4fMXsy3"
      }
    },
    {
      "cell_type": "code",
      "source": [
        "from pathlib import Path\n",
        "Path('/kaggle/working/train_data').mkdir(parents=True, exist_ok=True)\n",
        "Path('/kaggle/working/test_data').mkdir(parents=True, exist_ok=True)\n",
        "Path('/kaggle/working/validation_data').mkdir(parents=True, exist_ok=True)\n",
        "\n",
        "\n",
        "dataset_train.save_to_disk('/kaggle/working/dataset_train')\n",
        "dataset_test.save_to_disk('/kaggle/working/dataset_test')\n",
        "dataset_validation.save_to_disk('/kaggle/working/dataset_validation')"
      ],
      "metadata": {
        "trusted": true,
        "execution": {
          "iopub.status.busy": "2025-01-30T14:31:36.132324Z",
          "iopub.execute_input": "2025-01-30T14:31:36.132678Z",
          "iopub.status.idle": "2025-01-30T14:31:40.093459Z",
          "shell.execute_reply.started": "2025-01-30T14:31:36.132644Z",
          "shell.execute_reply": "2025-01-30T14:31:40.092168Z"
        },
        "colab": {
          "referenced_widgets": [
            "97d5976829324e76b05456a45c42b82a",
            "9f1c4c366d2f4b47a6776d94bba75055",
            "c72eef6b4b7341e2b057ffdacec5bf35"
          ]
        },
        "id": "1u_nB0ImWoM1",
        "outputId": "3709746e-efa2-4392-bc1f-a1f44f96f9eb"
      },
      "outputs": [
        {
          "output_type": "display_data",
          "data": {
            "text/plain": "Saving the dataset (0/4 shards):   0%|          | 0/1361224 [00:00<?, ? examples/s]",
            "application/vnd.jupyter.widget-view+json": {
              "version_major": 2,
              "version_minor": 0,
              "model_id": "97d5976829324e76b05456a45c42b82a"
            }
          },
          "metadata": {}
        },
        {
          "output_type": "display_data",
          "data": {
            "text/plain": "Saving the dataset (0/1 shards):   0%|          | 0/3003 [00:00<?, ? examples/s]",
            "application/vnd.jupyter.widget-view+json": {
              "version_major": 2,
              "version_minor": 0,
              "model_id": "9f1c4c366d2f4b47a6776d94bba75055"
            }
          },
          "metadata": {}
        },
        {
          "output_type": "display_data",
          "data": {
            "text/plain": "Saving the dataset (0/1 shards):   0%|          | 0/3000 [00:00<?, ? examples/s]",
            "application/vnd.jupyter.widget-view+json": {
              "version_major": 2,
              "version_minor": 0,
              "model_id": "c72eef6b4b7341e2b057ffdacec5bf35"
            }
          },
          "metadata": {}
        }
      ],
      "execution_count": null
    },
    {
      "cell_type": "code",
      "source": [
        "import json\n",
        "\n",
        "with open('fr_str2int.json', 'w') as f:\n",
        "    json.dump(fr_str2int, f)\n",
        "\n",
        "with open('fr_int2str.json', 'w') as f:\n",
        "    json.dump(fr_int2str, f)\n",
        "\n",
        "with open('en_str2int.json', 'w') as f:\n",
        "    json.dump(en_str2int, f)\n",
        "\n",
        "with open('en_int2str.json', 'w') as f:\n",
        "    json.dump(en_int2str, f)"
      ],
      "metadata": {
        "id": "gosyawKMXA0h"
      },
      "execution_count": null,
      "outputs": []
    },
    {
      "cell_type": "code",
      "source": [],
      "metadata": {
        "id": "gdIeBKHvXAxp"
      },
      "execution_count": null,
      "outputs": []
    },
    {
      "cell_type": "code",
      "source": [],
      "metadata": {
        "id": "EZgLaQZ-XAvA"
      },
      "execution_count": null,
      "outputs": []
    },
    {
      "cell_type": "code",
      "source": [],
      "metadata": {
        "id": "aEh0ufrsXp5s"
      },
      "execution_count": null,
      "outputs": []
    },
    {
      "cell_type": "code",
      "source": [],
      "metadata": {
        "id": "I4MStWl1Xp2-"
      },
      "execution_count": null,
      "outputs": []
    },
    {
      "cell_type": "code",
      "source": [],
      "metadata": {
        "id": "-Atxty52Xp0M"
      },
      "execution_count": null,
      "outputs": []
    },
    {
      "cell_type": "code",
      "source": [
        "# data batching\n",
        "def get_collate_fn(pad_index):\n",
        "    def collate_fn(batch):\n",
        "        batch_en_ids = [example['en_ids'] for example in batch]\n",
        "        batch_fr_ids = [example['fr_ids'] for example in batch]\n",
        "        batch_en_ids = nn.utils.rnn.pad_sequence(batch_en_ids, padding_value=pad_index)\n",
        "        batch_fr_ids = nn.utils.rnn.pad_sequence(batch_fr_ids, padding_value=pad_index)\n",
        "        batch = {\n",
        "            'en_ids': batch_en_ids,\n",
        "            'fr_ids': batch_fr_ids\n",
        "        }\n",
        "        return batch\n",
        "    return collate_fn\n",
        "\n",
        "\n",
        "def get_data_loader(dataset, batch_size, pad_index, shuffle=False):\n",
        "    collate_fn = get_collate_fn(pad_index)\n",
        "    data_loader = torch.utils.data.DataLoader(\n",
        "        dataset=dataset,\n",
        "        batch_size=batch_size,\n",
        "        collate_fn=collate_fn,\n",
        "        shuffle=shuffle\n",
        "    )\n",
        "    return data_loader\n",
        "\n",
        "\n",
        "# data loader\n",
        "batch_size = 128\n",
        "PAD_INDEX = en_str2int[pad_token]\n",
        "\n",
        "train_data_loader = get_data_loader(dataset_train, batch_size, PAD_INDEX, shuffle=False)\n",
        "test_data_loader = get_data_loader(dataset_test, batch_size, PAD_INDEX, shuffle=False)\n",
        "validation_data_loader = get_data_loader(dataset_validation, batch_size, PAD_INDEX, shuffle=False)\n",
        "\n",
        "result = next(iter(train_data_loader))\n",
        "result['en_ids'].shape, result['fr_ids'].shape"
      ],
      "metadata": {
        "_uuid": "cc235ecf-8027-4b08-8dea-845175cdef39",
        "_cell_guid": "c7e4b85e-bb69-4623-bb05-67c5fb56c26b",
        "trusted": true,
        "execution": {
          "iopub.status.busy": "2025-01-30T14:31:35.434814Z",
          "iopub.execute_input": "2025-01-30T14:31:35.435184Z",
          "iopub.status.idle": "2025-01-30T14:31:35.504090Z",
          "shell.execute_reply.started": "2025-01-30T14:31:35.435151Z",
          "shell.execute_reply": "2025-01-30T14:31:35.502919Z"
        },
        "jupyter": {
          "outputs_hidden": false
        },
        "id": "DronskvLWoM0",
        "outputId": "a789c5bd-0ca4-496a-968f-0d1ab26f98ed"
      },
      "outputs": [
        {
          "execution_count": 13,
          "output_type": "execute_result",
          "data": {
            "text/plain": "(torch.Size([9, 128]), torch.Size([24, 128]))"
          },
          "metadata": {}
        }
      ],
      "execution_count": null
    },
    {
      "cell_type": "code",
      "source": [
        "en_str2int[pad_token] == fr_str2int[pad_token]"
      ],
      "metadata": {
        "_uuid": "bda14a05-8885-4b59-8e5d-ce540649dd35",
        "_cell_guid": "0fcc5561-ce5b-4759-8d02-c4edd9d669ff",
        "trusted": true,
        "jupyter": {
          "outputs_hidden": false
        },
        "execution": {
          "iopub.status.busy": "2025-01-30T14:31:35.505462Z",
          "iopub.execute_input": "2025-01-30T14:31:35.505812Z",
          "iopub.status.idle": "2025-01-30T14:31:36.129609Z",
          "shell.execute_reply.started": "2025-01-30T14:31:35.505782Z",
          "shell.execute_reply": "2025-01-30T14:31:36.128258Z"
        },
        "id": "W0ceRFwUWoM1",
        "outputId": "946f6e91-8848-46a0-a19a-7a1520a70a18"
      },
      "outputs": [
        {
          "execution_count": 14,
          "output_type": "execute_result",
          "data": {
            "text/plain": "True"
          },
          "metadata": {}
        }
      ],
      "execution_count": null
    },
    {
      "cell_type": "code",
      "source": [],
      "metadata": {
        "trusted": true,
        "id": "sPIn9FG-WoM6"
      },
      "outputs": [],
      "execution_count": null
    }
  ]
}